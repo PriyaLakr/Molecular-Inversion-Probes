{
 "cells": [
  {
   "cell_type": "code",
   "execution_count": 14,
   "metadata": {},
   "outputs": [],
   "source": [
    "def count_repeat(seq):\n",
    "    count_repeat_A = \"A\" * 8\n",
    "    count_repeat_T = \"T\" * 8\n",
    "    count_repeat_G = \"G\" * 8\n",
    "    count_repeat_C = \"C\" * 8\n",
    "    if count_repeat_A in seq or count_repeat_T in seq or count_repeat_G in seq or count_repeat_C in seq:\n",
    "        return True"
   ]
  },
  {
   "cell_type": "code",
   "execution_count": 15,
   "metadata": {},
   "outputs": [
    {
     "data": {
      "text/plain": [
       "(True, None)"
      ]
     },
     "execution_count": 15,
     "metadata": {},
     "output_type": "execute_result"
    }
   ],
   "source": [
    "#test\n",
    "\n",
    "seq1 = \"CCCCCCCCCCCCC\"\n",
    "seq2 = \"AAAAA\"\n",
    "    \n",
    "count_repeat(seq1), count_repeat(seq2)"
   ]
  },
  {
   "cell_type": "code",
   "execution_count": 16,
   "metadata": {},
   "outputs": [],
   "source": [
    "count_repeat(seq2)"
   ]
  },
  {
   "cell_type": "code",
   "execution_count": 18,
   "metadata": {},
   "outputs": [
    {
     "name": "stdout",
     "output_type": "stream",
     "text": [
      "[('AAAAAAATGC', 'CATGCATGCA')]\n",
      "[('AAAAAATGCA', 'ATGCATGCAT')]\n",
      "[('AAAATGCATG', 'GCATGCATGC')]\n"
     ]
    }
   ],
   "source": [
    "#test\n",
    "trial = [('AAAAAAAAAA', 'ATGCATGCAT'),\n",
    "  ('AAAAAAAAAT', 'TGCATGCATG'),\n",
    "  ('AAAAAAAATG', 'GCATGCATGC'),\n",
    "  ('AAAAAAATGC', 'CATGCATGCA'),\n",
    "  ('AAAAAATGCA', 'ATGCATGCAT'),\n",
    "  ('AAAAATGCAT', 'AAAAAAAAAA'),\n",
    "  ('AAAATGCATG', 'GCATGCATGC')]\n",
    "\n",
    "for (i,j) in trial:\n",
    "    trail2 = []\n",
    "    if count_repeat(i) != True and count_repeat(j) != True:\n",
    "        trail2.append((i,j))\n",
    "        print(trail2)"
   ]
  },
  {
   "cell_type": "code",
   "execution_count": null,
   "metadata": {},
   "outputs": [],
   "source": []
  },
  {
   "cell_type": "code",
   "execution_count": null,
   "metadata": {},
   "outputs": [],
   "source": []
  },
  {
   "cell_type": "code",
   "execution_count": null,
   "metadata": {},
   "outputs": [],
   "source": []
  },
  {
   "cell_type": "code",
   "execution_count": 124,
   "metadata": {},
   "outputs": [],
   "source": [
    "def probes(seq, extension_probe_length, ligation_probe_length, insert_size):\n",
    "\n",
    "   \n",
    "    # extension_probe_length = 18bp (ideally: 16-20bp)\n",
    "    # ligation_probe_length = 22bp (ideally: 20-24bp)\n",
    "    # insert_size = 112 nts\n",
    "    extension_probe = []\n",
    "    ligation_probe = []\n",
    "    \n",
    "    #all positions are zero-based\n",
    "    extension_probe_pos =[]\n",
    "    ligation_probe_pos = []\n",
    "    target_seq = [] \n",
    "\n",
    "    # selecting probes of defined length iteratively from 5'-3' of the input sequence \n",
    "    for i in range(len(seq)):\n",
    "        for j in range(i + 1, len(seq) + 1):\n",
    "            if len(seq[i:j]) == extension_probe_length and len(seq[j+insert_size:j+insert_size+ligation_probe_length]) == ligation_probe_length:\n",
    "                # discard sequences with consecutive polyNs (=repeats)\n",
    "                if count_repeat(seq[i:j]) == True or count_repeat(seq[j+insert_size:j+insert_size+ligation_probe_length]) == True:\n",
    "                    break\n",
    "                \n",
    "                # if sequences do not contain consecutive polyNs, proceed\n",
    "                else:\n",
    "                    # extract extension_probe of required length and store in a list\n",
    "                    extension_probe.append(seq[i:j])\n",
    "                    \n",
    "                    # note start and end indexes of extension_probe \n",
    "                    extension_probe_pos.append(f\"start={i}\")\n",
    "                    extension_probe_pos.append(f\"end={j}\")\n",
    "                    \n",
    "                    # skip 112 nts (=insert size) and extract following ligation_probe of required length\n",
    "                    ligation_probe.append(seq[j+insert_size:j+insert_size+ligation_probe_length])\n",
    "                    \n",
    "                    # note start and end indexes of extension_probe and store in a list\n",
    "                    ligation_probe_pos.append(f\"start={j+insert_size}\")\n",
    "                    ligation_probe_pos.append(f\"end={j+insert_size+ligation_probe_length}\")\n",
    "                      \n",
    "                \n",
    "                \n",
    "    all_probes = list(zip(extension_probe,ligation_probe)) # combine lists \n",
    "    \n",
    "             \n",
    "    return all_probes, extension_probe_pos, ligation_probe_pos\n",
    "\n",
    "\n",
    "def check_probes(all_probes):\n",
    "    import Bio.SeqUtils \n",
    "    from Bio.SeqUtils import MeltingTemp as tm\n",
    "    \n",
    "    new_probes = []\n",
    "    final_probes = []\n",
    "    melting_temp = []\n",
    "    \n",
    "    # check for GC content of all_probes (expected range: 40-70%)\n",
    "    for (i,j) in all_probes:\n",
    "        if Bio.SeqUtils.GC(i) >= 40 or Bio.SeqUtils.GC(i) <= 70 and Bio.SeqUtils.GC(i) >= 40 or Bio.SeqUtils.GC(i) <= 70:\n",
    "            # keep only those which follows the above criteria\n",
    "            new_probes.append((i,j))\n",
    "            \n",
    "    # check for tm = melting temperature of all_probes \n",
    "    for (i,j) in new_probes:\n",
    "        if tm.Tm_Wallace(i) >= 60 and tm.Tm_Wallace(j) >= 60:\n",
    "            # keep only those which follows the above criteria\n",
    "            final_probes.append((i,j))\n",
    "            melting_temp.append(tm.Tm_Wallace(i))\n",
    "            melting_temp.append(tm.Tm_Wallace(j))\n",
    "                \n",
    "    return final_probes\n",
    "    "
   ]
  },
  {
   "cell_type": "code",
   "execution_count": 125,
   "metadata": {
    "scrolled": true
   },
   "outputs": [
    {
     "data": {
      "text/plain": [
       "'/Users/priyalakra/Desktop/TERT_datasets'"
      ]
     },
     "execution_count": 125,
     "metadata": {},
     "output_type": "execute_result"
    }
   ],
   "source": [
    "pwd"
   ]
  },
  {
   "cell_type": "code",
   "execution_count": null,
   "metadata": {
    "scrolled": false
   },
   "outputs": [],
   "source": []
  },
  {
   "cell_type": "code",
   "execution_count": 126,
   "metadata": {},
   "outputs": [],
   "source": [
    "seq = 'ATGTCACTGTATCGCCCTCTAGTTCTGCTGTCTTGTCTCTCATGGCCGCTGGCTGGCTTTTCTGCCACCGCGCTGACCAACCTCGTCGCGGAACCATTCGCTAAACTCGAACAGGACTTTGGCGGCTCCATCGGTGTGTACGCGATGGATACCGGCTCAGGCGCAACTGTAAGTTACCGCGCTGAGGAGCGCTTCCCACTGTGCAGCTCATTCAAGGGCTTTCTTGCTGCCGCTGTGCTGGCTCGCAGCCAGCAGCAGGCCGGCTTGCTGGACACACCCATCCGTTACGGCAAAAATGCGCTGGTTCCGTGGTCACCCATCTCGGAAAAATATCTGACAACAGGCATGACGGTGGCGGAGCTGTCCGCGGCCGCCGTGCAATACAGTGATAACGCCGCCGCCAATTTGTTGCTGAAGGAGTTGGGCGGCCCGGCCGGGCTGACGGCCTTCATGCGCTCTATCGGCGATACCACGTTCCGTCTGGACCGCTGGGAGCTGGAGCTGAACTCCGCCATCCCAGGCGATGCGCGCGATACCTCATCGCCGCGCGCCGTGACGGAAAGCTTACAAAAACTGACACTGGGCTCTGCACTGGCTGCGCCGCAGCGGCAGCAGTTTGTTGATTGGCTAAAGGGAAACACGACCGGCAACCACCGCATCCGCGCGGCGGTGCCGGCAGACTGGGCAGTCGGAGACAAAACCGGAACCTGCGGAGTGTATGGCACGGCAAATGACTATGCCGTCGTCTGGCCCACTGGGCGCGCACCTATTGTGTTGGCCGTCTACACCCGGGCGCCTAACAAGGATGACAAGCACAGCGAGGCCGTCATCGCCGCTGCGGCTAGACTCGCGCTCGAGGGATTGGGCGTCAACGGGCAGTAA'"
   ]
  },
  {
   "cell_type": "code",
   "execution_count": 127,
   "metadata": {},
   "outputs": [],
   "source": [
    "all_probes, extension_probe_pos, ligation_probe_pos = probes(seq, extension_probe_length = 18, ligation_probe_length = 20, insert_size = 112)"
   ]
  },
  {
   "cell_type": "code",
   "execution_count": 128,
   "metadata": {},
   "outputs": [
    {
     "data": {
      "text/plain": [
       "733"
      ]
     },
     "execution_count": 128,
     "metadata": {},
     "output_type": "execute_result"
    }
   ],
   "source": [
    "len(all_probes)"
   ]
  },
  {
   "cell_type": "code",
   "execution_count": 130,
   "metadata": {},
   "outputs": [],
   "source": [
    "final_probes = check_probes(all_probes)"
   ]
  },
  {
   "cell_type": "code",
   "execution_count": 131,
   "metadata": {},
   "outputs": [
    {
     "data": {
      "text/plain": [
       "258"
      ]
     },
     "execution_count": 131,
     "metadata": {},
     "output_type": "execute_result"
    }
   ],
   "source": [
    "len(final_probes)"
   ]
  },
  {
   "cell_type": "code",
   "execution_count": null,
   "metadata": {},
   "outputs": [],
   "source": []
  },
  {
   "cell_type": "code",
   "execution_count": null,
   "metadata": {},
   "outputs": [],
   "source": []
  },
  {
   "cell_type": "code",
   "execution_count": null,
   "metadata": {},
   "outputs": [],
   "source": []
  },
  {
   "cell_type": "code",
   "execution_count": null,
   "metadata": {},
   "outputs": [],
   "source": []
  },
  {
   "cell_type": "code",
   "execution_count": null,
   "metadata": {},
   "outputs": [],
   "source": []
  },
  {
   "cell_type": "code",
   "execution_count": null,
   "metadata": {},
   "outputs": [],
   "source": []
  },
  {
   "cell_type": "code",
   "execution_count": null,
   "metadata": {},
   "outputs": [],
   "source": []
  },
  {
   "cell_type": "code",
   "execution_count": null,
   "metadata": {},
   "outputs": [],
   "source": []
  },
  {
   "cell_type": "code",
   "execution_count": null,
   "metadata": {},
   "outputs": [],
   "source": []
  },
  {
   "cell_type": "code",
   "execution_count": 26,
   "metadata": {},
   "outputs": [],
   "source": [
    "# Preseting as table\n",
    "\n",
    "import pandas as pd\n",
    "\n",
    "def as_table(list_of_sequences, extension_probe_pos, ligation_probe_pos):\n",
    "    data = pd.DataFrame(all_probes, extension_probe_pos, ligation_probe_pos, columns = ['Extension probe', 'Extension_probe_pos', 'Ligation probe', 'Extension_probe_pos'])\n",
    "    return data\n",
    "    pass"
   ]
  },
  {
   "cell_type": "code",
   "execution_count": null,
   "metadata": {},
   "outputs": [],
   "source": [
    "def make_MIP(final_probes, linker):\n",
    "    \n",
    "    mips = []\n",
    "    \n",
    "    for (i,j) in final_probes:\n",
    "        mip = j + linker + i\n",
    "        mips.append(mip)\n",
    "    return mips\n",
    "\n",
    "    pass\n",
    "        "
   ]
  },
  {
   "cell_type": "code",
   "execution_count": null,
   "metadata": {},
   "outputs": [],
   "source": [
    "def open_folder(path):\n",
    "    import os\n",
    "    from Bio import SeqIO\n",
    "    work_dir = os.chdir(path)\n",
    "    \n",
    "    seq = ''\n",
    "    \n",
    "    for file in os.listdir(work_dir):\n",
    "        if file.endswith(\".fna\") or file.endswith(\".fasta\"):\n",
    "            with open(file, 'r') as handle:\n",
    "                handle.seek(0)\n",
    "                \n",
    "                for record in SeqIO.parse(handle, \"fasta\"):\n",
    "                    \n",
    "    pass\n",
    "              "
   ]
  }
 ],
 "metadata": {
  "kernelspec": {
   "display_name": "Python 3",
   "language": "python",
   "name": "python3"
  },
  "language_info": {
   "codemirror_mode": {
    "name": "ipython",
    "version": 3
   },
   "file_extension": ".py",
   "mimetype": "text/x-python",
   "name": "python",
   "nbconvert_exporter": "python",
   "pygments_lexer": "ipython3",
   "version": "3.7.6"
  }
 },
 "nbformat": 4,
 "nbformat_minor": 4
}
