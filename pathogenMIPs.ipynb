{
 "cells": [
  {
   "cell_type": "code",
   "execution_count": 3,
   "metadata": {},
   "outputs": [],
   "source": [
    "def count_repeat(seq, num_repeats=8):\n",
    "    count_repeat_A = \"A\" * num_repeats\n",
    "    count_repeat_T = \"T\" * num_repeats\n",
    "    count_repeat_G = \"G\" * num_repeats\n",
    "    count_repeat_C = \"C\" * num_repeats\n",
    "    if count_repeat_A in seq or count_repeat_T in seq or count_repeat_G in seq or count_repeat_C in seq:\n",
    "        return True"
   ]
  },
  {
   "cell_type": "code",
   "execution_count": 4,
   "metadata": {},
   "outputs": [
    {
     "data": {
      "text/plain": [
       "(True, None)"
      ]
     },
     "execution_count": 4,
     "metadata": {},
     "output_type": "execute_result"
    }
   ],
   "source": [
    "#test\n",
    "\n",
    "seq1 = \"CCCCCCCCCCCCC\"\n",
    "seq2 = \"AAAAA\"\n",
    "    \n",
    "count_repeat(seq1), count_repeat(seq2)"
   ]
  },
  {
   "cell_type": "code",
   "execution_count": 5,
   "metadata": {},
   "outputs": [],
   "source": [
    "count_repeat(seq2)"
   ]
  },
  {
   "cell_type": "code",
   "execution_count": 6,
   "metadata": {},
   "outputs": [
    {
     "name": "stdout",
     "output_type": "stream",
     "text": [
      "[('AAAAAAATGC', 'CATGCATGCA')]\n",
      "[('AAAAAATGCA', 'ATGCATGCAT')]\n",
      "[('AAAATGCATG', 'GCATGCATGC')]\n"
     ]
    }
   ],
   "source": [
    "#test\n",
    "trial = [('AAAAAAAAAA', 'ATGCATGCAT'),\n",
    "  ('AAAAAAAAAT', 'TGCATGCATG'),\n",
    "  ('AAAAAAAATG', 'GCATGCATGC'),\n",
    "  ('AAAAAAATGC', 'CATGCATGCA'),\n",
    "  ('AAAAAATGCA', 'ATGCATGCAT'),\n",
    "  ('AAAAATGCAT', 'AAAAAAAAAA'),\n",
    "  ('AAAATGCATG', 'GCATGCATGC')]\n",
    "\n",
    "for (i,j) in trial:\n",
    "    trail2 = []\n",
    "    if count_repeat(i) != True and count_repeat(j) != True:\n",
    "        trail2.append((i,j))\n",
    "        print(trail2)"
   ]
  },
  {
   "cell_type": "code",
   "execution_count": null,
   "metadata": {},
   "outputs": [],
   "source": []
  },
  {
   "cell_type": "code",
   "execution_count": null,
   "metadata": {},
   "outputs": [],
   "source": []
  },
  {
   "cell_type": "code",
   "execution_count": null,
   "metadata": {},
   "outputs": [],
   "source": []
  },
  {
   "cell_type": "code",
   "execution_count": 7,
   "metadata": {},
   "outputs": [],
   "source": [
    "def probes(seq, extension_probe_length, ligation_probe_length, insert_size):\n",
    "\n",
    "   \n",
    "    # extension_probe_length = 18bp (ideally: 16-20bp)\n",
    "    # ligation_probe_length = 22bp (ideally: 20-24bp)\n",
    "    # insert_size = 112 nts\n",
    "    extension_probe = []\n",
    "    ligation_probe = []\n",
    "    \n",
    "    #all positions are zero-based\n",
    "    extension_probe_pos =[]\n",
    "    ligation_probe_pos = []\n",
    "    target_seq = [] \n",
    "\n",
    "    # selecting probes of defined length iteratively from 5'-3' of the input sequence \n",
    "    for i in range(len(seq)):\n",
    "        for j in range(i + 1, len(seq) + 1):\n",
    "            if len(seq[i:j]) == extension_probe_length and len(seq[j+insert_size:j+insert_size+ligation_probe_length]) == ligation_probe_length:\n",
    "                # discard sequences with consecutive polyNs (=repeats)\n",
    "                if count_repeat(seq[i:j]) == True or count_repeat(seq[j+insert_size:j+insert_size+ligation_probe_length]) == True:\n",
    "                    break\n",
    "                \n",
    "                # if sequences do not contain consecutive polyNs, proceed\n",
    "                else:\n",
    "                    # extract extension_probe of required length and store in a list\n",
    "                    extension_probe.append(seq[i:j])\n",
    "                    \n",
    "                    # note start and end indexes of extension_probe \n",
    "                    extension_probe_pos.append(f\"start={i} end={j}\")\n",
    "        \n",
    "                    \n",
    "                    # skip 112 nts (=insert size) and extract following ligation_probe of required length\n",
    "                    ligation_probe.append(seq[j+insert_size:j+insert_size+ligation_probe_length])\n",
    "                    \n",
    "                    # note start and end indexes of extension_probe and store in a list\n",
    "                    ligation_probe_pos.append(f\"start={j+insert_size} end={j+insert_size+ligation_probe_length}\")\n",
    "                    \n",
    "                      \n",
    "                \n",
    "                \n",
    "    all_probes = list(zip(extension_probe,extension_probe_pos, ligation_probe, ligation_probe_pos)) # combine lists \n",
    "    all_probes_only = list(zip(extension_probe, ligation_probe))       \n",
    "    return all_probes, extension_probe_pos, ligation_probe_pos, all_probes_only\n",
    "\n",
    "\n",
    "def check_probes(all_probes): #using all_probes as list\n",
    "    import Bio.SeqUtils \n",
    "    from Bio.SeqUtils import MeltingTemp as tm\n",
    "    \n",
    "    new_probes = []\n",
    "    final_probes = []\n",
    "    melting_temp = []\n",
    "    \n",
    "    # check for GC content of all_probes (expected range: 40-70%)\n",
    "    for (i,j) in all_probes:\n",
    "        if Bio.SeqUtils.GC(i) >= 40 or Bio.SeqUtils.GC(i) <= 70 and Bio.SeqUtils.GC(i) >= 40 or Bio.SeqUtils.GC(i) <= 70:\n",
    "            # keep only those which follows the above criteria\n",
    "            new_probes.append((i,j))\n",
    "            \n",
    "    # check for tm = melting temperature of all_probes \n",
    "    for (i,j) in new_probes:\n",
    "        if tm.Tm_Wallace(i) >= 60 and tm.Tm_Wallace(j) >= 60:\n",
    "            # keep only those which follows the above criteria\n",
    "            final_probes.append((i,j))\n",
    "            melting_temp.append(tm.Tm_Wallace(i))\n",
    "            melting_temp.append(tm.Tm_Wallace(j))\n",
    "                \n",
    "    return final_probes\n",
    "    "
   ]
  },
  {
   "cell_type": "code",
   "execution_count": null,
   "metadata": {
    "scrolled": false
   },
   "outputs": [],
   "source": []
  },
  {
   "cell_type": "code",
   "execution_count": 8,
   "metadata": {},
   "outputs": [],
   "source": [
    "seq = 'ATGTCACTGTATCGCCCTCTAGTTCTGCTGTCTTGTCTCTCATGGCCGCTGGCTGGCTTTTCTGCCACCGCGCTGACCAACCTCGTCGCGGAACCATTCGCTAAACTCGAACAGGACTTTGGCGGCTCCATCGGTGTGTACGCGATGGATACCGGCTCAGGCGCAACTGTAAGTTACCGCGCTGAGGAGCGCTTCCCACTGTGCAGCTCATTCAAGGGCTTTCTTGCTGCCGCTGTGCTGGCTCGCAGCCAGCAGCAGGCCGGCTTGCTGGACACACCCATCCGTTACGGCAAAAATGCGCTGGTTCCGTGGTCACCCATCTCGGAAAAATATCTGACAACAGGCATGACGGTGGCGGAGCTGTCCGCGGCCGCCGTGCAATACAGTGATAACGCCGCCGCCAATTTGTTGCTGAAGGAGTTGGGCGGCCCGGCCGGGCTGACGGCCTTCATGCGCTCTATCGGCGATACCACGTTCCGTCTGGACCGCTGGGAGCTGGAGCTGAACTCCGCCATCCCAGGCGATGCGCGCGATACCTCATCGCCGCGCGCCGTGACGGAAAGCTTACAAAAACTGACACTGGGCTCTGCACTGGCTGCGCCGCAGCGGCAGCAGTTTGTTGATTGGCTAAAGGGAAACACGACCGGCAACCACCGCATCCGCGCGGCGGTGCCGGCAGACTGGGCAGTCGGAGACAAAACCGGAACCTGCGGAGTGTATGGCACGGCAAATGACTATGCCGTCGTCTGGCCCACTGGGCGCGCACCTATTGTGTTGGCCGTCTACACCCGGGCGCCTAACAAGGATGACAAGCACAGCGAGGCCGTCATCGCCGCTGCGGCTAGACTCGCGCTCGAGGGATTGGGCGTCAACGGGCAGTAA'"
   ]
  },
  {
   "cell_type": "code",
   "execution_count": 9,
   "metadata": {},
   "outputs": [],
   "source": [
    "all_probes, extension_probe_pos, ligation_probe_pos, all_probes_only = probes(seq, extension_probe_length = 18, ligation_probe_length = 20, insert_size = 112)"
   ]
  },
  {
   "cell_type": "code",
   "execution_count": 10,
   "metadata": {
    "scrolled": true
   },
   "outputs": [
    {
     "data": {
      "text/plain": [
       "733"
      ]
     },
     "execution_count": 10,
     "metadata": {},
     "output_type": "execute_result"
    }
   ],
   "source": [
    "len(all_probes)"
   ]
  },
  {
   "cell_type": "code",
   "execution_count": 11,
   "metadata": {
    "scrolled": true
   },
   "outputs": [],
   "source": [
    "final_probes = check_probes(all_probes_only)"
   ]
  },
  {
   "cell_type": "code",
   "execution_count": 12,
   "metadata": {
    "scrolled": false
   },
   "outputs": [
    {
     "data": {
      "text/plain": [
       "258"
      ]
     },
     "execution_count": 12,
     "metadata": {},
     "output_type": "execute_result"
    }
   ],
   "source": [
    "len(final_probes)"
   ]
  },
  {
   "cell_type": "code",
   "execution_count": 17,
   "metadata": {},
   "outputs": [],
   "source": [
    "# Converting list to dataframe \n",
    "\n",
    "def as_table(list_of_sequences):\n",
    "    import pandas as pd\n",
    "    data = pd.DataFrame(list_of_sequences, columns = ['Extension probe', 'Extension_probe_pos', 'Ligation probe', 'Extension_probe_pos'])\n",
    "    return data"
   ]
  },
  {
   "cell_type": "code",
   "execution_count": 19,
   "metadata": {
    "scrolled": true
   },
   "outputs": [],
   "source": [
    "data = as_table(all_probes)"
   ]
  },
  {
   "cell_type": "code",
   "execution_count": 20,
   "metadata": {},
   "outputs": [
    {
     "data": {
      "text/html": [
       "<div>\n",
       "<style scoped>\n",
       "    .dataframe tbody tr th:only-of-type {\n",
       "        vertical-align: middle;\n",
       "    }\n",
       "\n",
       "    .dataframe tbody tr th {\n",
       "        vertical-align: top;\n",
       "    }\n",
       "\n",
       "    .dataframe thead th {\n",
       "        text-align: right;\n",
       "    }\n",
       "</style>\n",
       "<table border=\"1\" class=\"dataframe\">\n",
       "  <thead>\n",
       "    <tr style=\"text-align: right;\">\n",
       "      <th></th>\n",
       "      <th>Extension probe</th>\n",
       "      <th>Extension_probe_pos</th>\n",
       "      <th>Ligation probe</th>\n",
       "      <th>Extension_probe_pos</th>\n",
       "    </tr>\n",
       "  </thead>\n",
       "  <tbody>\n",
       "    <tr>\n",
       "      <th>0</th>\n",
       "      <td>ATGTCACTGTATCGCCCT</td>\n",
       "      <td>start=0 end=18</td>\n",
       "      <td>TCGGTGTGTACGCGATGGAT</td>\n",
       "      <td>start=130 end=150</td>\n",
       "    </tr>\n",
       "    <tr>\n",
       "      <th>1</th>\n",
       "      <td>TGTCACTGTATCGCCCTC</td>\n",
       "      <td>start=1 end=19</td>\n",
       "      <td>CGGTGTGTACGCGATGGATA</td>\n",
       "      <td>start=131 end=151</td>\n",
       "    </tr>\n",
       "    <tr>\n",
       "      <th>2</th>\n",
       "      <td>GTCACTGTATCGCCCTCT</td>\n",
       "      <td>start=2 end=20</td>\n",
       "      <td>GGTGTGTACGCGATGGATAC</td>\n",
       "      <td>start=132 end=152</td>\n",
       "    </tr>\n",
       "    <tr>\n",
       "      <th>3</th>\n",
       "      <td>TCACTGTATCGCCCTCTA</td>\n",
       "      <td>start=3 end=21</td>\n",
       "      <td>GTGTGTACGCGATGGATACC</td>\n",
       "      <td>start=133 end=153</td>\n",
       "    </tr>\n",
       "    <tr>\n",
       "      <th>4</th>\n",
       "      <td>CACTGTATCGCCCTCTAG</td>\n",
       "      <td>start=4 end=22</td>\n",
       "      <td>TGTGTACGCGATGGATACCG</td>\n",
       "      <td>start=134 end=154</td>\n",
       "    </tr>\n",
       "    <tr>\n",
       "      <th>...</th>\n",
       "      <td>...</td>\n",
       "      <td>...</td>\n",
       "      <td>...</td>\n",
       "      <td>...</td>\n",
       "    </tr>\n",
       "    <tr>\n",
       "      <th>728</th>\n",
       "      <td>AAATGACTATGCCGTCGT</td>\n",
       "      <td>start=728 end=746</td>\n",
       "      <td>GGATTGGGCGTCAACGGGCA</td>\n",
       "      <td>start=858 end=878</td>\n",
       "    </tr>\n",
       "    <tr>\n",
       "      <th>729</th>\n",
       "      <td>AATGACTATGCCGTCGTC</td>\n",
       "      <td>start=729 end=747</td>\n",
       "      <td>GATTGGGCGTCAACGGGCAG</td>\n",
       "      <td>start=859 end=879</td>\n",
       "    </tr>\n",
       "    <tr>\n",
       "      <th>730</th>\n",
       "      <td>ATGACTATGCCGTCGTCT</td>\n",
       "      <td>start=730 end=748</td>\n",
       "      <td>ATTGGGCGTCAACGGGCAGT</td>\n",
       "      <td>start=860 end=880</td>\n",
       "    </tr>\n",
       "    <tr>\n",
       "      <th>731</th>\n",
       "      <td>TGACTATGCCGTCGTCTG</td>\n",
       "      <td>start=731 end=749</td>\n",
       "      <td>TTGGGCGTCAACGGGCAGTA</td>\n",
       "      <td>start=861 end=881</td>\n",
       "    </tr>\n",
       "    <tr>\n",
       "      <th>732</th>\n",
       "      <td>GACTATGCCGTCGTCTGG</td>\n",
       "      <td>start=732 end=750</td>\n",
       "      <td>TGGGCGTCAACGGGCAGTAA</td>\n",
       "      <td>start=862 end=882</td>\n",
       "    </tr>\n",
       "  </tbody>\n",
       "</table>\n",
       "<p>733 rows × 4 columns</p>\n",
       "</div>"
      ],
      "text/plain": [
       "        Extension probe Extension_probe_pos        Ligation probe  \\\n",
       "0    ATGTCACTGTATCGCCCT      start=0 end=18  TCGGTGTGTACGCGATGGAT   \n",
       "1    TGTCACTGTATCGCCCTC      start=1 end=19  CGGTGTGTACGCGATGGATA   \n",
       "2    GTCACTGTATCGCCCTCT      start=2 end=20  GGTGTGTACGCGATGGATAC   \n",
       "3    TCACTGTATCGCCCTCTA      start=3 end=21  GTGTGTACGCGATGGATACC   \n",
       "4    CACTGTATCGCCCTCTAG      start=4 end=22  TGTGTACGCGATGGATACCG   \n",
       "..                  ...                 ...                   ...   \n",
       "728  AAATGACTATGCCGTCGT   start=728 end=746  GGATTGGGCGTCAACGGGCA   \n",
       "729  AATGACTATGCCGTCGTC   start=729 end=747  GATTGGGCGTCAACGGGCAG   \n",
       "730  ATGACTATGCCGTCGTCT   start=730 end=748  ATTGGGCGTCAACGGGCAGT   \n",
       "731  TGACTATGCCGTCGTCTG   start=731 end=749  TTGGGCGTCAACGGGCAGTA   \n",
       "732  GACTATGCCGTCGTCTGG   start=732 end=750  TGGGCGTCAACGGGCAGTAA   \n",
       "\n",
       "    Extension_probe_pos  \n",
       "0     start=130 end=150  \n",
       "1     start=131 end=151  \n",
       "2     start=132 end=152  \n",
       "3     start=133 end=153  \n",
       "4     start=134 end=154  \n",
       "..                  ...  \n",
       "728   start=858 end=878  \n",
       "729   start=859 end=879  \n",
       "730   start=860 end=880  \n",
       "731   start=861 end=881  \n",
       "732   start=862 end=882  \n",
       "\n",
       "[733 rows x 4 columns]"
      ]
     },
     "execution_count": 20,
     "metadata": {},
     "output_type": "execute_result"
    }
   ],
   "source": [
    "data"
   ]
  },
  {
   "cell_type": "code",
   "execution_count": 25,
   "metadata": {},
   "outputs": [],
   "source": [
    "def check_probes(all_probes): #using all_probes as dataframe\n",
    "    import Bio.SeqUtils \n",
    "    from Bio.SeqUtils import MeltingTemp as tm\n",
    "    import pandas as pd\n",
    "    \n",
    "    \n",
    "    # check for GC content of all_probes (expected range: 40-70%)\n",
    "    for ext, lig in zip(data['Extension probe'], data['Ligation probe']):\n",
    "        if Bio.SeqUtils.GC(ext) < 40 and Bio.SeqUtils.GC(ext) > 70 or Bio.SeqUtils.GC(lig) < 40 and Bio.SeqUtils.GC(lig) > 70:\n",
    "            print(lig)\n",
    "            # keep only those which follows the above criteria\n",
    "            ind1 = int(data[data['Extension probe'] == ext].index.values)\n",
    "            ind = data[data['Extension probe'] == lig].index.values\n",
    "            data.drop([ind1], inplace=True)\n",
    "            data.drop(ind, inplace=True)\n",
    "           \n",
    "\n",
    "    for ext, lig in zip(data['Extension probe'], data['Ligation probe']):\n",
    "        if tm.Tm_Wallace(ext) < 60 or tm.Tm_Wallace(lig) < 60:\n",
    "            # keep only those which follows the above criteria\n",
    "            ind1 = int(data[data['Extension probe']== ext].index.values)\n",
    "            ind = data[data['Extension probe']== lig].index.values\n",
    "            data.drop([ind1], inplace=True)\n",
    "            data.drop(ind, inplace=True)\n",
    "                \n",
    "    return data\n",
    "\n",
    "## can include GC content and Tm in the dataframe and arrange in ascending order, to select best possible pairs of probes\n"
   ]
  },
  {
   "cell_type": "code",
   "execution_count": 26,
   "metadata": {
    "scrolled": true
   },
   "outputs": [
    {
     "data": {
      "text/html": [
       "<div>\n",
       "<style scoped>\n",
       "    .dataframe tbody tr th:only-of-type {\n",
       "        vertical-align: middle;\n",
       "    }\n",
       "\n",
       "    .dataframe tbody tr th {\n",
       "        vertical-align: top;\n",
       "    }\n",
       "\n",
       "    .dataframe thead th {\n",
       "        text-align: right;\n",
       "    }\n",
       "</style>\n",
       "<table border=\"1\" class=\"dataframe\">\n",
       "  <thead>\n",
       "    <tr style=\"text-align: right;\">\n",
       "      <th></th>\n",
       "      <th>Extension probe</th>\n",
       "      <th>Extension_probe_pos</th>\n",
       "      <th>Ligation probe</th>\n",
       "      <th>Extension_probe_pos</th>\n",
       "    </tr>\n",
       "  </thead>\n",
       "  <tbody>\n",
       "    <tr>\n",
       "      <th>34</th>\n",
       "      <td>GTCTCTCATGGCCGCTGG</td>\n",
       "      <td>start=34 end=52</td>\n",
       "      <td>AACTGTAAGTTACCGCGCTG</td>\n",
       "      <td>start=164 end=184</td>\n",
       "    </tr>\n",
       "    <tr>\n",
       "      <th>35</th>\n",
       "      <td>TCTCTCATGGCCGCTGGC</td>\n",
       "      <td>start=35 end=53</td>\n",
       "      <td>ACTGTAAGTTACCGCGCTGA</td>\n",
       "      <td>start=165 end=185</td>\n",
       "    </tr>\n",
       "    <tr>\n",
       "      <th>36</th>\n",
       "      <td>CTCTCATGGCCGCTGGCT</td>\n",
       "      <td>start=36 end=54</td>\n",
       "      <td>CTGTAAGTTACCGCGCTGAG</td>\n",
       "      <td>start=166 end=186</td>\n",
       "    </tr>\n",
       "    <tr>\n",
       "      <th>37</th>\n",
       "      <td>TCTCATGGCCGCTGGCTG</td>\n",
       "      <td>start=37 end=55</td>\n",
       "      <td>TGTAAGTTACCGCGCTGAGG</td>\n",
       "      <td>start=167 end=187</td>\n",
       "    </tr>\n",
       "    <tr>\n",
       "      <th>38</th>\n",
       "      <td>CTCATGGCCGCTGGCTGG</td>\n",
       "      <td>start=38 end=56</td>\n",
       "      <td>GTAAGTTACCGCGCTGAGGA</td>\n",
       "      <td>start=168 end=188</td>\n",
       "    </tr>\n",
       "    <tr>\n",
       "      <th>...</th>\n",
       "      <td>...</td>\n",
       "      <td>...</td>\n",
       "      <td>...</td>\n",
       "      <td>...</td>\n",
       "    </tr>\n",
       "    <tr>\n",
       "      <th>678</th>\n",
       "      <td>GACTGGGCAGTCGGAGAC</td>\n",
       "      <td>start=678 end=696</td>\n",
       "      <td>ACAAGCACAGCGAGGCCGTC</td>\n",
       "      <td>start=808 end=828</td>\n",
       "    </tr>\n",
       "    <tr>\n",
       "      <th>699</th>\n",
       "      <td>ACCGGAACCTGCGGAGTG</td>\n",
       "      <td>start=699 end=717</td>\n",
       "      <td>TCGCCGCTGCGGCTAGACTC</td>\n",
       "      <td>start=829 end=849</td>\n",
       "    </tr>\n",
       "    <tr>\n",
       "      <th>700</th>\n",
       "      <td>CCGGAACCTGCGGAGTGT</td>\n",
       "      <td>start=700 end=718</td>\n",
       "      <td>CGCCGCTGCGGCTAGACTCG</td>\n",
       "      <td>start=830 end=850</td>\n",
       "    </tr>\n",
       "    <tr>\n",
       "      <th>709</th>\n",
       "      <td>GCGGAGTGTATGGCACGG</td>\n",
       "      <td>start=709 end=727</td>\n",
       "      <td>GGCTAGACTCGCGCTCGAGG</td>\n",
       "      <td>start=839 end=859</td>\n",
       "    </tr>\n",
       "    <tr>\n",
       "      <th>710</th>\n",
       "      <td>CGGAGTGTATGGCACGGC</td>\n",
       "      <td>start=710 end=728</td>\n",
       "      <td>GCTAGACTCGCGCTCGAGGG</td>\n",
       "      <td>start=840 end=860</td>\n",
       "    </tr>\n",
       "  </tbody>\n",
       "</table>\n",
       "<p>258 rows × 4 columns</p>\n",
       "</div>"
      ],
      "text/plain": [
       "        Extension probe Extension_probe_pos        Ligation probe  \\\n",
       "34   GTCTCTCATGGCCGCTGG     start=34 end=52  AACTGTAAGTTACCGCGCTG   \n",
       "35   TCTCTCATGGCCGCTGGC     start=35 end=53  ACTGTAAGTTACCGCGCTGA   \n",
       "36   CTCTCATGGCCGCTGGCT     start=36 end=54  CTGTAAGTTACCGCGCTGAG   \n",
       "37   TCTCATGGCCGCTGGCTG     start=37 end=55  TGTAAGTTACCGCGCTGAGG   \n",
       "38   CTCATGGCCGCTGGCTGG     start=38 end=56  GTAAGTTACCGCGCTGAGGA   \n",
       "..                  ...                 ...                   ...   \n",
       "678  GACTGGGCAGTCGGAGAC   start=678 end=696  ACAAGCACAGCGAGGCCGTC   \n",
       "699  ACCGGAACCTGCGGAGTG   start=699 end=717  TCGCCGCTGCGGCTAGACTC   \n",
       "700  CCGGAACCTGCGGAGTGT   start=700 end=718  CGCCGCTGCGGCTAGACTCG   \n",
       "709  GCGGAGTGTATGGCACGG   start=709 end=727  GGCTAGACTCGCGCTCGAGG   \n",
       "710  CGGAGTGTATGGCACGGC   start=710 end=728  GCTAGACTCGCGCTCGAGGG   \n",
       "\n",
       "    Extension_probe_pos  \n",
       "34    start=164 end=184  \n",
       "35    start=165 end=185  \n",
       "36    start=166 end=186  \n",
       "37    start=167 end=187  \n",
       "38    start=168 end=188  \n",
       "..                  ...  \n",
       "678   start=808 end=828  \n",
       "699   start=829 end=849  \n",
       "700   start=830 end=850  \n",
       "709   start=839 end=859  \n",
       "710   start=840 end=860  \n",
       "\n",
       "[258 rows x 4 columns]"
      ]
     },
     "execution_count": 26,
     "metadata": {},
     "output_type": "execute_result"
    }
   ],
   "source": [
    "check_probes(all_probes)"
   ]
  },
  {
   "cell_type": "code",
   "execution_count": null,
   "metadata": {},
   "outputs": [],
   "source": []
  },
  {
   "cell_type": "code",
   "execution_count": null,
   "metadata": {},
   "outputs": [],
   "source": []
  },
  {
   "cell_type": "code",
   "execution_count": null,
   "metadata": {},
   "outputs": [],
   "source": []
  },
  {
   "cell_type": "code",
   "execution_count": null,
   "metadata": {},
   "outputs": [],
   "source": []
  },
  {
   "cell_type": "code",
   "execution_count": null,
   "metadata": {},
   "outputs": [],
   "source": []
  },
  {
   "cell_type": "code",
   "execution_count": null,
   "metadata": {},
   "outputs": [],
   "source": []
  },
  {
   "cell_type": "code",
   "execution_count": null,
   "metadata": {},
   "outputs": [],
   "source": []
  },
  {
   "cell_type": "code",
   "execution_count": null,
   "metadata": {},
   "outputs": [],
   "source": []
  },
  {
   "cell_type": "code",
   "execution_count": null,
   "metadata": {},
   "outputs": [],
   "source": []
  },
  {
   "cell_type": "code",
   "execution_count": null,
   "metadata": {},
   "outputs": [],
   "source": [
    "def make_MIP(final_probes, linker):\n",
    "    \n",
    "    mips = []\n",
    "    \n",
    "    for (i,j) in final_probes:\n",
    "        mip = j + linker + i\n",
    "        mips.append(mip)\n",
    "    return mips\n",
    "\n",
    "    pass\n",
    "        "
   ]
  },
  {
   "cell_type": "code",
   "execution_count": null,
   "metadata": {},
   "outputs": [],
   "source": [
    "def open_folder(path):\n",
    "    import os\n",
    "    from Bio import SeqIO\n",
    "    work_dir = os.chdir(path)\n",
    "    \n",
    "    seq = ''\n",
    "    \n",
    "    for file in os.listdir(work_dir):\n",
    "        if file.endswith(\".fna\") or file.endswith(\".fasta\"):\n",
    "            with open(file, 'r') as handle:\n",
    "                handle.seek(0)\n",
    "                \n",
    "                for record in SeqIO.parse(handle, \"fasta\"):\n",
    "                    \n",
    "    pass\n",
    "              "
   ]
  }
 ],
 "metadata": {
  "kernelspec": {
   "display_name": "Python 3",
   "language": "python",
   "name": "python3"
  },
  "language_info": {
   "codemirror_mode": {
    "name": "ipython",
    "version": 3
   },
   "file_extension": ".py",
   "mimetype": "text/x-python",
   "name": "python",
   "nbconvert_exporter": "python",
   "pygments_lexer": "ipython3",
   "version": "3.7.6"
  }
 },
 "nbformat": 4,
 "nbformat_minor": 4
}
